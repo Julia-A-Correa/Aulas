{
  "cells": [
    {
      "cell_type": "code",
      "source": [
        "n1 = 10\n",
        "n2 = 50\n",
        "t1 =\"Ctrl\"\n",
        "t2 = \"Play\""
      ],
      "metadata": {
        "id": "lsWXKPfSnHM0"
      },
      "execution_count": 3,
      "outputs": []
    },
    {
      "cell_type": "code",
      "source": [
        "n1 * 5 == n2"
      ],
      "metadata": {
        "colab": {
          "base_uri": "https://localhost:8080/"
        },
        "id": "JdubUUESnOt0",
        "outputId": "6c2b817d-cbc4-4220-c8a3-e49ef4607d33"
      },
      "execution_count": 4,
      "outputs": [
        {
          "output_type": "execute_result",
          "data": {
            "text/plain": [
              "True"
            ]
          },
          "metadata": {},
          "execution_count": 4
        }
      ]
    },
    {
      "cell_type": "code",
      "source": [
        "t1 == t2"
      ],
      "metadata": {
        "colab": {
          "base_uri": "https://localhost:8080/"
        },
        "id": "DkB8viozndm9",
        "outputId": "3fe4bf5e-7b2a-4684-ec9a-32946a270316"
      },
      "execution_count": 5,
      "outputs": [
        {
          "output_type": "execute_result",
          "data": {
            "text/plain": [
              "False"
            ]
          },
          "metadata": {},
          "execution_count": 5
        }
      ]
    },
    {
      "cell_type": "code",
      "source": [
        "n1 != n2"
      ],
      "metadata": {
        "colab": {
          "base_uri": "https://localhost:8080/"
        },
        "id": "1vh0lYBTnicM",
        "outputId": "5f78fe99-e470-42a7-9588-1a9ec8223819"
      },
      "execution_count": 6,
      "outputs": [
        {
          "output_type": "execute_result",
          "data": {
            "text/plain": [
              "True"
            ]
          },
          "metadata": {},
          "execution_count": 6
        }
      ]
    },
    {
      "cell_type": "code",
      "source": [
        "t1 != t2"
      ],
      "metadata": {
        "colab": {
          "base_uri": "https://localhost:8080/"
        },
        "id": "bZaOFiI4npQf",
        "outputId": "c5551207-eba9-4f85-e43e-f70bede333aa"
      },
      "execution_count": 7,
      "outputs": [
        {
          "output_type": "execute_result",
          "data": {
            "text/plain": [
              "True"
            ]
          },
          "metadata": {},
          "execution_count": 7
        }
      ]
    },
    {
      "cell_type": "code",
      "source": [
        "n1 * 5 != n2"
      ],
      "metadata": {
        "colab": {
          "base_uri": "https://localhost:8080/"
        },
        "id": "20T5pL42nsxE",
        "outputId": "37fcfe6c-cb96-43ea-c52d-0e34b26c6c5c"
      },
      "execution_count": 8,
      "outputs": [
        {
          "output_type": "execute_result",
          "data": {
            "text/plain": [
              "False"
            ]
          },
          "metadata": {},
          "execution_count": 8
        }
      ]
    },
    {
      "cell_type": "code",
      "source": [
        "numero = int (input())\n",
        "numero == n1"
      ],
      "metadata": {
        "colab": {
          "base_uri": "https://localhost:8080/"
        },
        "id": "XXRZtFGBn1vG",
        "outputId": "58a8d2b4-7204-408a-a132-60fe43eddc91"
      },
      "execution_count": 13,
      "outputs": [
        {
          "name": "stdout",
          "output_type": "stream",
          "text": [
            "10\n"
          ]
        },
        {
          "output_type": "execute_result",
          "data": {
            "text/plain": [
              "True"
            ]
          },
          "metadata": {},
          "execution_count": 13
        }
      ]
    },
    {
      "cell_type": "code",
      "source": [
        "n1 = 10\n",
        "n2 = 50\n",
        "t1 =\"Ctrl\"\n",
        "t2 = \"Play\"\n",
        "n1 > n2"
      ],
      "metadata": {
        "colab": {
          "base_uri": "https://localhost:8080/"
        },
        "id": "ha4gDd6PohLV",
        "outputId": "c5a1d1ad-6461-48db-aac0-2d100449f83c"
      },
      "execution_count": 15,
      "outputs": [
        {
          "output_type": "execute_result",
          "data": {
            "text/plain": [
              "False"
            ]
          },
          "metadata": {},
          "execution_count": 15
        }
      ]
    },
    {
      "cell_type": "code",
      "source": [
        "t1 > t2"
      ],
      "metadata": {
        "colab": {
          "base_uri": "https://localhost:8080/"
        },
        "id": "oQDhiDDEox55",
        "outputId": "346cdafc-e376-4b5d-b314-c866bcc8cb6c"
      },
      "execution_count": 16,
      "outputs": [
        {
          "output_type": "execute_result",
          "data": {
            "text/plain": [
              "False"
            ]
          },
          "metadata": {},
          "execution_count": 16
        }
      ]
    },
    {
      "cell_type": "code",
      "source": [
        "t1 >= t2"
      ],
      "metadata": {
        "colab": {
          "base_uri": "https://localhost:8080/"
        },
        "id": "soZ-zQSlo0_a",
        "outputId": "7d946c8a-7c94-4496-d570-d18ce77927bf"
      },
      "execution_count": 17,
      "outputs": [
        {
          "output_type": "execute_result",
          "data": {
            "text/plain": [
              "False"
            ]
          },
          "metadata": {},
          "execution_count": 17
        }
      ]
    },
    {
      "cell_type": "code",
      "source": [
        "n1 < n2"
      ],
      "metadata": {
        "colab": {
          "base_uri": "https://localhost:8080/"
        },
        "id": "PL2CZe2To8lf",
        "outputId": "571679dd-fecd-4512-d8ac-72fdfe746a1f"
      },
      "execution_count": 18,
      "outputs": [
        {
          "output_type": "execute_result",
          "data": {
            "text/plain": [
              "True"
            ]
          },
          "metadata": {},
          "execution_count": 18
        }
      ]
    },
    {
      "cell_type": "code",
      "source": [
        "t1 < t2"
      ],
      "metadata": {
        "colab": {
          "base_uri": "https://localhost:8080/"
        },
        "id": "zgTv6hLJpAGp",
        "outputId": "16ece5b6-e055-42b5-fe04-28834a2717a9"
      },
      "execution_count": 19,
      "outputs": [
        {
          "output_type": "execute_result",
          "data": {
            "text/plain": [
              "True"
            ]
          },
          "metadata": {},
          "execution_count": 19
        }
      ]
    },
    {
      "cell_type": "code",
      "source": [
        "\"12\" < \"doze\""
      ],
      "metadata": {
        "colab": {
          "base_uri": "https://localhost:8080/"
        },
        "id": "K6rY9wFXpXIE",
        "outputId": "3c13fd6f-9060-4e50-88e2-11bdbb23c7b2"
      },
      "execution_count": 21,
      "outputs": [
        {
          "output_type": "execute_result",
          "data": {
            "text/plain": [
              "True"
            ]
          },
          "metadata": {},
          "execution_count": 21
        }
      ]
    },
    {
      "cell_type": "code",
      "source": [
        "1 < 2 < 3"
      ],
      "metadata": {
        "colab": {
          "base_uri": "https://localhost:8080/"
        },
        "id": "YE8R1EFzqHZ0",
        "outputId": "faec443a-ebba-4d2d-d420-d93c1a1d090e"
      },
      "execution_count": 22,
      "outputs": [
        {
          "output_type": "execute_result",
          "data": {
            "text/plain": [
              "True"
            ]
          },
          "metadata": {},
          "execution_count": 22
        }
      ]
    },
    {
      "cell_type": "code",
      "source": [
        "1 < 4 < 3"
      ],
      "metadata": {
        "colab": {
          "base_uri": "https://localhost:8080/"
        },
        "id": "D8YUzE32q1kz",
        "outputId": "3feaa08c-7bc8-4f06-cfb1-268c910346a4"
      },
      "execution_count": 23,
      "outputs": [
        {
          "output_type": "execute_result",
          "data": {
            "text/plain": [
              "False"
            ]
          },
          "metadata": {},
          "execution_count": 23
        }
      ]
    },
    {
      "cell_type": "code",
      "source": [
        "1 < 2 and 2 < 3"
      ],
      "metadata": {
        "colab": {
          "base_uri": "https://localhost:8080/"
        },
        "id": "jAyKbYQ0q8Iw",
        "outputId": "1c8a3f1a-a91a-4ffb-9645-b8eb9b716073"
      },
      "execution_count": 24,
      "outputs": [
        {
          "output_type": "execute_result",
          "data": {
            "text/plain": [
              "True"
            ]
          },
          "metadata": {},
          "execution_count": 24
        }
      ]
    },
    {
      "cell_type": "code",
      "source": [
        "1 < 5 > 2"
      ],
      "metadata": {
        "colab": {
          "base_uri": "https://localhost:8080/"
        },
        "id": "Q9oB-rqYrFaS",
        "outputId": "0d15d7ae-cecc-45a5-f07f-fa008693e66c"
      },
      "execution_count": 25,
      "outputs": [
        {
          "output_type": "execute_result",
          "data": {
            "text/plain": [
              "True"
            ]
          },
          "metadata": {},
          "execution_count": 25
        }
      ]
    },
    {
      "cell_type": "code",
      "source": [
        "1 == 2"
      ],
      "metadata": {
        "colab": {
          "base_uri": "https://localhost:8080/"
        },
        "id": "nixC2V0trV3F",
        "outputId": "2838d652-c9e7-460d-bc3a-c49960f73f4c"
      },
      "execution_count": 26,
      "outputs": [
        {
          "output_type": "execute_result",
          "data": {
            "text/plain": [
              "False"
            ]
          },
          "metadata": {},
          "execution_count": 26
        }
      ]
    },
    {
      "cell_type": "code",
      "source": [
        "1 == 2 or 2 < 3"
      ],
      "metadata": {
        "colab": {
          "base_uri": "https://localhost:8080/"
        },
        "id": "ROSK7D9yr4w5",
        "outputId": "34d83176-868a-423b-8ec1-d17b1bb1e294"
      },
      "execution_count": 27,
      "outputs": [
        {
          "output_type": "execute_result",
          "data": {
            "text/plain": [
              "True"
            ]
          },
          "metadata": {},
          "execution_count": 27
        }
      ]
    },
    {
      "cell_type": "code",
      "source": [
        "nota = int(input(\"informe a nota \"))\n",
        "if nota >= 6:\n",
        "  print (\"aprovado!\")"
      ],
      "metadata": {
        "colab": {
          "base_uri": "https://localhost:8080/"
        },
        "id": "GkS2UUP2sD2u",
        "outputId": "898c583f-c369-48e8-b68f-dc20b2625f8f"
      },
      "execution_count": 32,
      "outputs": [
        {
          "output_type": "stream",
          "name": "stdout",
          "text": [
            "informe a nota 6\n",
            "aprovado!\n"
          ]
        }
      ]
    },
    {
      "cell_type": "code",
      "source": [
        "nota = int(input(\"informe a nota \"))\n",
        "if nota >= 6:\n",
        "print (\"aprovado!\")"
      ],
      "metadata": {
        "colab": {
          "base_uri": "https://localhost:8080/",
          "height": 106
        },
        "id": "21mYE1D2vcAp",
        "outputId": "212b90f1-7441-414c-b036-52a78973680f"
      },
      "execution_count": 35,
      "outputs": [
        {
          "output_type": "error",
          "ename": "IndentationError",
          "evalue": "expected an indented block after 'if' statement on line 2 (ipython-input-2684869405.py, line 3)",
          "traceback": [
            "\u001b[0;36m  File \u001b[0;32m\"/tmp/ipython-input-2684869405.py\"\u001b[0;36m, line \u001b[0;32m3\u001b[0m\n\u001b[0;31m    print (\"aprovado!\")\u001b[0m\n\u001b[0m    ^\u001b[0m\n\u001b[0;31mIndentationError\u001b[0m\u001b[0;31m:\u001b[0m expected an indented block after 'if' statement on line 2\n"
          ]
        }
      ]
    },
    {
      "cell_type": "code",
      "source": [
        "nota = int(input(\"informe a nota \"))\n",
        "if nota >= 6:\n",
        "  print (\"aprovado!\")\n",
        "else:\n",
        "  print(\"reprovado!\")"
      ],
      "metadata": {
        "colab": {
          "base_uri": "https://localhost:8080/"
        },
        "id": "9vQ_DGthvfKS",
        "outputId": "89f4cec6-2b35-41dd-a005-117e9137de09"
      },
      "execution_count": 36,
      "outputs": [
        {
          "output_type": "stream",
          "name": "stdout",
          "text": [
            "informe a nota 4\n",
            "reprovado!\n"
          ]
        }
      ]
    },
    {
      "cell_type": "code",
      "source": [
        "nota = int(input(\"informe a nota \"))\n",
        "if nota >= 6:\n",
        "  print (\"aprovado!\")\n",
        "elif nota >= 4:\n",
        "  print(\"Recuperação!\")\n",
        "else:\n",
        "  print(\"reprovado!\")"
      ],
      "metadata": {
        "colab": {
          "base_uri": "https://localhost:8080/"
        },
        "id": "O6bBy1CLwaOy",
        "outputId": "2ea63ef9-06b1-4a19-882a-c51f80ddb2ed"
      },
      "execution_count": 39,
      "outputs": [
        {
          "output_type": "stream",
          "name": "stdout",
          "text": [
            "informe a nota 4\n",
            "Recuperação!\n"
          ]
        }
      ]
    },
    {
      "cell_type": "code",
      "source": [
        "nota = int(input(\"informe a nota \"))\n",
        "if nota >= 90:\n",
        "  print (\"MB!\")\n",
        "elif nota >= 70:\n",
        "  print(\"B!\")\n",
        "elif nota >= 50:\n",
        "  print(\"I!\")\n",
        "else:\n",
        "  print(\"R!\")"
      ],
      "metadata": {
        "colab": {
          "base_uri": "https://localhost:8080/"
        },
        "id": "t76CmlIxw_ZW",
        "outputId": "30c683d5-31a3-429b-9bb7-dd852d4ce9df"
      },
      "execution_count": 58,
      "outputs": [
        {
          "output_type": "stream",
          "name": "stdout",
          "text": [
            "informe a nota 90\n",
            "MB!\n"
          ]
        }
      ]
    },
    {
      "cell_type": "code",
      "source": [
        "meses = [\"janeiro\",  \"fevereiro\", \"março\", \"abril\", \"maio\", \"junho\", \"julho\", \"agosto\", \"setembro\", \"outubro\", \"novembro\", \"dezembro\"]\n",
        "numero = int(input(\"informe um numero dentro de 1 a 12\"))\n",
        "print(meses[numero-1])"
      ],
      "metadata": {
        "colab": {
          "base_uri": "https://localhost:8080/"
        },
        "id": "SI7Mv6CJzK49",
        "outputId": "c4d194df-8947-493e-8618-1a4fdf86eb96"
      },
      "execution_count": 62,
      "outputs": [
        {
          "output_type": "stream",
          "name": "stdout",
          "text": [
            "informe um numero dentro de 1 a 127\n",
            "julho\n"
          ]
        }
      ]
    },
    {
      "cell_type": "code",
      "source": [
        "cardapio = {1: 4.00, 2: 4.50, 3: 5.00, 4: 2.00, 5: 1.50}\n",
        "codigo = int(input(\"Informe o codigo\"))\n",
        "quantidade = int(input(\"Informe a quantidade\"))\n",
        "total = cardapio[codigo] * quantidade\n",
        "print(f\"total: r$ {total: .2f}\")"
      ],
      "metadata": {
        "id": "oJAJsARL3AfL",
        "outputId": "d064770a-380b-4980-d53e-b091d537ad3b",
        "colab": {
          "base_uri": "https://localhost:8080/"
        }
      },
      "execution_count": 64,
      "outputs": [
        {
          "output_type": "stream",
          "name": "stdout",
          "text": [
            "Informe o codigo2\n",
            "Informe a quantidade6\n",
            "total: r$  27.00\n"
          ]
        }
      ]
    },
    {
      "cell_type": "code",
      "source": [],
      "metadata": {
        "id": "z7J0QdxB54w8"
      },
      "execution_count": null,
      "outputs": []
    }
  ],
  "metadata": {
    "colab": {
      "name": "Damos-lhe as boas-vindas ao Colab",
      "toc_visible": true,
      "provenance": []
    },
    "kernelspec": {
      "display_name": "Python 3",
      "name": "python3"
    }
  },
  "nbformat": 4,
  "nbformat_minor": 0
}
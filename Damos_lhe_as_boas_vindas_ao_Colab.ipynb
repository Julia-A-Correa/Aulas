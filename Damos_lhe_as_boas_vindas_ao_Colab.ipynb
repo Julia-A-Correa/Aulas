{
  "cells": [
    {
      "cell_type": "code",
      "source": [
        "convidados = [\"José\", \"Maria\", \"Ana\"]\n",
        "print(convidados)"
      ],
      "metadata": {
        "colab": {
          "base_uri": "https://localhost:8080/"
        },
        "id": "6I-Tc3G3h-yy",
        "outputId": "5faf4a87-d063-472b-fe17-cbf4a255f1a0"
      },
      "execution_count": 1,
      "outputs": [
        {
          "output_type": "stream",
          "name": "stdout",
          "text": [
            "['José', 'Maria', 'Ana']\n"
          ]
        }
      ]
    },
    {
      "cell_type": "code",
      "source": [
        "print(\"primeiro convidado: \"+ convidados[0])"
      ],
      "metadata": {
        "colab": {
          "base_uri": "https://localhost:8080/"
        },
        "id": "tWsoeLf2i7ua",
        "outputId": "d06ba737-a9f7-470f-f4ab-c58e105220cf"
      },
      "execution_count": 2,
      "outputs": [
        {
          "output_type": "stream",
          "name": "stdout",
          "text": [
            "primeiro convidado: José\n"
          ]
        }
      ]
    },
    {
      "cell_type": "code",
      "source": [
        "print(\"ultimo convidado: \"+ convidados[-1])"
      ],
      "metadata": {
        "colab": {
          "base_uri": "https://localhost:8080/"
        },
        "id": "do6wLjl3jciJ",
        "outputId": "d7cfc748-a1c9-41e6-d062-09031a382f9f"
      },
      "execution_count": 4,
      "outputs": [
        {
          "output_type": "stream",
          "name": "stdout",
          "text": [
            "ultimo convidado: Ana\n"
          ]
        }
      ]
    },
    {
      "cell_type": "code",
      "source": [
        "#substituindo item\n",
        "convidados[0] = \"Julia\"\n",
        "print(convidados)"
      ],
      "metadata": {
        "colab": {
          "base_uri": "https://localhost:8080/"
        },
        "id": "QWDAieWvjwho",
        "outputId": "b6d0232c-3f73-4a9d-bae3-077612ce8665"
      },
      "execution_count": 6,
      "outputs": [
        {
          "output_type": "stream",
          "name": "stdout",
          "text": [
            "['Julia', 'Maria', 'Ana']\n"
          ]
        }
      ]
    },
    {
      "cell_type": "code",
      "source": [
        "convidados.append(\"Joaquim\")\n",
        "print(convidados)"
      ],
      "metadata": {
        "colab": {
          "base_uri": "https://localhost:8080/"
        },
        "id": "8M7JikcVkVp3",
        "outputId": "1b799c11-05e6-44c7-c4c0-b5c80b10e70f"
      },
      "execution_count": 7,
      "outputs": [
        {
          "output_type": "stream",
          "name": "stdout",
          "text": [
            "['Julia', 'Maria', 'Ana', 'Joaquim']\n"
          ]
        }
      ]
    },
    {
      "cell_type": "code",
      "source": [
        "convidados.insert(0, \"João\")\n",
        "print(convidados)"
      ],
      "metadata": {
        "colab": {
          "base_uri": "https://localhost:8080/"
        },
        "id": "qgjBumbJk6H4",
        "outputId": "386d26e2-3ace-4c84-80be-88128704c4e5"
      },
      "execution_count": 8,
      "outputs": [
        {
          "output_type": "stream",
          "name": "stdout",
          "text": [
            "['João', 'Julia', 'Maria', 'Ana', 'Joaquim']\n"
          ]
        }
      ]
    },
    {
      "cell_type": "code",
      "source": [
        "del convidados[3]\n",
        "print(convidados)"
      ],
      "metadata": {
        "colab": {
          "base_uri": "https://localhost:8080/"
        },
        "id": "9inTQyaClND5",
        "outputId": "d42bb17e-ba2c-44a2-a6fd-7ae5595aedf2"
      },
      "execution_count": 9,
      "outputs": [
        {
          "output_type": "stream",
          "name": "stdout",
          "text": [
            "['João', 'Julia', 'Maria', 'Joaquim']\n"
          ]
        }
      ]
    },
    {
      "cell_type": "code",
      "source": [
        "convidadoremovido = convidados.pop()\n",
        "print(convidadoremovido)\n",
        "print(convidados)"
      ],
      "metadata": {
        "colab": {
          "base_uri": "https://localhost:8080/"
        },
        "id": "Jo8QtCwolfWM",
        "outputId": "b5a5b7e8-6b6a-4686-e6e7-6eff0ca70ca3"
      },
      "execution_count": 11,
      "outputs": [
        {
          "output_type": "stream",
          "name": "stdout",
          "text": [
            "Maria\n",
            "['João', 'Julia']\n"
          ]
        }
      ]
    },
    {
      "cell_type": "code",
      "source": [
        "convidados = ['João', 'Julia', 'Maria', 'Ana', 'Joaquim']\n",
        "viajando = 'Ana'\n",
        "convidados.remove(viajando)\n",
        "print(convidados)"
      ],
      "metadata": {
        "colab": {
          "base_uri": "https://localhost:8080/"
        },
        "id": "EY-OxQvHmB30",
        "outputId": "526e447c-d3a9-4250-c7be-90d24c9b5437"
      },
      "execution_count": 12,
      "outputs": [
        {
          "output_type": "stream",
          "name": "stdout",
          "text": [
            "['João', 'Julia', 'Maria', 'Joaquim']\n"
          ]
        }
      ]
    },
    {
      "cell_type": "code",
      "source": [
        "convidados.sort()\n",
        "print(convidados)"
      ],
      "metadata": {
        "colab": {
          "base_uri": "https://localhost:8080/"
        },
        "id": "75e0ONKvm2O-",
        "outputId": "5bbe3a18-634e-4b60-c971-e12e0e72ff6c"
      },
      "execution_count": 15,
      "outputs": [
        {
          "output_type": "stream",
          "name": "stdout",
          "text": [
            "['Joaquim', 'João', 'Julia', 'Maria']\n"
          ]
        }
      ]
    },
    {
      "cell_type": "code",
      "source": [
        "convidados.sort(reverse=True)\n",
        "print(convidados)"
      ],
      "metadata": {
        "colab": {
          "base_uri": "https://localhost:8080/"
        },
        "id": "tHAaHQo-na4Z",
        "outputId": "a56eca46-1e96-4b59-f748-262bd6cbffc5"
      },
      "execution_count": 16,
      "outputs": [
        {
          "output_type": "stream",
          "name": "stdout",
          "text": [
            "['Maria', 'Julia', 'João', 'Joaquim']\n"
          ]
        }
      ]
    },
    {
      "cell_type": "code",
      "source": [
        "convidados = ['João', 'Julia', 'Maria', 'Ana', 'Joaquim']\n",
        "print(sorted(convidados))"
      ],
      "metadata": {
        "colab": {
          "base_uri": "https://localhost:8080/"
        },
        "id": "jKcVSVngnm0T",
        "outputId": "23304040-6802-4173-fc05-ac6f842ea73c"
      },
      "execution_count": 17,
      "outputs": [
        {
          "output_type": "stream",
          "name": "stdout",
          "text": [
            "['Ana', 'Joaquim', 'João', 'Julia', 'Maria']\n"
          ]
        }
      ]
    },
    {
      "cell_type": "code",
      "source": [
        "print(sorted(convidados, reverse =True))"
      ],
      "metadata": {
        "id": "laMimAdDoB3m",
        "outputId": "5f69126d-672c-4545-815f-16f09f1d5193",
        "colab": {
          "base_uri": "https://localhost:8080/"
        }
      },
      "execution_count": 18,
      "outputs": [
        {
          "output_type": "stream",
          "name": "stdout",
          "text": [
            "['Maria', 'Julia', 'João', 'Joaquim', 'Ana']\n"
          ]
        }
      ]
    },
    {
      "cell_type": "code",
      "source": [
        "convidados.reverse()\n",
        "print(convidados)"
      ],
      "metadata": {
        "id": "RKfNuX9locVt",
        "outputId": "12fa6a89-d213-4c86-afac-7ed2f3b4ce11",
        "colab": {
          "base_uri": "https://localhost:8080/"
        }
      },
      "execution_count": 19,
      "outputs": [
        {
          "output_type": "stream",
          "name": "stdout",
          "text": [
            "['Joaquim', 'Ana', 'Maria', 'Julia', 'João']\n"
          ]
        }
      ]
    },
    {
      "cell_type": "code",
      "source": [
        "print(len(convidados))"
      ],
      "metadata": {
        "id": "-xF0zMxKoz5c",
        "outputId": "d680661b-47e6-4daf-9afe-6ba6914ce141",
        "colab": {
          "base_uri": "https://localhost:8080/"
        }
      },
      "execution_count": 20,
      "outputs": [
        {
          "output_type": "stream",
          "name": "stdout",
          "text": [
            "5\n"
          ]
        }
      ]
    },
    {
      "cell_type": "code",
      "source": [
        "numeros = list(range(1,7))\n",
        "print(numeros)"
      ],
      "metadata": {
        "id": "yN3-KnkGpHz6",
        "outputId": "2d12c788-04d0-448a-8410-7951fcedb291",
        "colab": {
          "base_uri": "https://localhost:8080/"
        }
      },
      "execution_count": 22,
      "outputs": [
        {
          "output_type": "stream",
          "name": "stdout",
          "text": [
            "[1, 2, 3, 4, 5, 6]\n"
          ]
        }
      ]
    },
    {
      "cell_type": "code",
      "source": [
        "print(min(numeros))\n"
      ],
      "metadata": {
        "id": "XwswaUCopfCD",
        "outputId": "58b2c048-2b5f-4f67-9751-8e101a84b527",
        "colab": {
          "base_uri": "https://localhost:8080/"
        }
      },
      "execution_count": 23,
      "outputs": [
        {
          "output_type": "stream",
          "name": "stdout",
          "text": [
            "1\n"
          ]
        }
      ]
    },
    {
      "cell_type": "code",
      "source": [
        "print(max(numeros))\n"
      ],
      "metadata": {
        "id": "uLPQ9sG6pmKp",
        "outputId": "2ad8490c-1bb3-49f9-be60-48fd392c574a",
        "colab": {
          "base_uri": "https://localhost:8080/"
        }
      },
      "execution_count": 24,
      "outputs": [
        {
          "output_type": "stream",
          "name": "stdout",
          "text": [
            "6\n"
          ]
        }
      ]
    },
    {
      "cell_type": "code",
      "source": [
        "print(convidados[2:4])"
      ],
      "metadata": {
        "id": "KPcusiOKps56",
        "outputId": "72839054-24a2-4044-d3df-b058ffd246a0",
        "colab": {
          "base_uri": "https://localhost:8080/"
        }
      },
      "execution_count": 25,
      "outputs": [
        {
          "output_type": "stream",
          "name": "stdout",
          "text": [
            "['Maria', 'Julia']\n"
          ]
        }
      ]
    },
    {
      "cell_type": "code",
      "source": [
        "torcida = [['João', 'Julia', 'Maria', 'Ana', 'Joaquim'],[\"Palmera\", \"São Paulo\",\"Flamengo\", \"Nova Iguaçu\", \"Corinthians\"]]\n",
        "print(torcida)"
      ],
      "metadata": {
        "id": "6hs2Omr7p45Q",
        "outputId": "4c23423b-8c4f-4b90-9e4d-2a91de4b94f9",
        "colab": {
          "base_uri": "https://localhost:8080/"
        }
      },
      "execution_count": 27,
      "outputs": [
        {
          "output_type": "stream",
          "name": "stdout",
          "text": [
            "[['João', 'Julia', 'Maria', 'Ana', 'Joaquim'], ['Palmera', 'São Paulo', 'Flamengo', 'Nova Iguaçu', 'Corinthians']]\n"
          ]
        }
      ]
    },
    {
      "cell_type": "code",
      "source": [
        "print(torcida[0][4])"
      ],
      "metadata": {
        "id": "uuvIHIAmraY9",
        "outputId": "34043fbf-4b90-4a21-dffc-bc70ed688c95",
        "colab": {
          "base_uri": "https://localhost:8080/"
        }
      },
      "execution_count": 28,
      "outputs": [
        {
          "output_type": "stream",
          "name": "stdout",
          "text": [
            "Joaquim\n"
          ]
        }
      ]
    },
    {
      "cell_type": "code",
      "source": [
        "print(torcida[1][3])"
      ],
      "metadata": {
        "id": "WDH6iixXrrxL",
        "outputId": "fad4b728-ee46-4cea-df24-6152c0da70f2",
        "colab": {
          "base_uri": "https://localhost:8080/"
        }
      },
      "execution_count": 29,
      "outputs": [
        {
          "output_type": "stream",
          "name": "stdout",
          "text": [
            "Nova Iguaçu\n"
          ]
        }
      ]
    },
    {
      "cell_type": "code",
      "source": [
        "print(torcida[0][0:3])"
      ],
      "metadata": {
        "id": "R6vWJQIMr2kS",
        "outputId": "4af9aa44-cf59-47d6-9187-65492983fe9f",
        "colab": {
          "base_uri": "https://localhost:8080/"
        }
      },
      "execution_count": 31,
      "outputs": [
        {
          "output_type": "stream",
          "name": "stdout",
          "text": [
            "['João', 'Julia', 'Maria']\n"
          ]
        }
      ]
    },
    {
      "cell_type": "code",
      "source": [
        "#Lê o numero do mês\n",
        "n = int(input())\n",
        "meses = [\"Janeiro\", \"Fevereiro\", \"Março\", \"Abril\", \"Maio\", \"Junho\", \"Julho\", \"Agosto\", \"Setembro\", \"Outubro\", \"Novembro\", \"Dezembro\"]\n",
        "print(meses[n-1])"
      ],
      "metadata": {
        "id": "gklTK4YHsFmv",
        "outputId": "0a1f1d2a-d32b-46f7-febb-cd2c91a17667",
        "colab": {
          "base_uri": "https://localhost:8080/"
        }
      },
      "execution_count": 35,
      "outputs": [
        {
          "output_type": "stream",
          "name": "stdout",
          "text": [
            "12\n",
            "Dezembro\n"
          ]
        }
      ]
    },
    {
      "cell_type": "code",
      "source": [],
      "metadata": {
        "id": "8PiE1CYfyW_8"
      },
      "execution_count": null,
      "outputs": []
    }
  ],
  "metadata": {
    "colab": {
      "name": "Damos-lhe as boas-vindas ao Colab",
      "toc_visible": true,
      "provenance": []
    },
    "kernelspec": {
      "display_name": "Python 3",
      "name": "python3"
    }
  },
  "nbformat": 4,
  "nbformat_minor": 0
}
{
  "nbformat": 4,
  "nbformat_minor": 0,
  "metadata": {
    "colab": {
      "provenance": []
    },
    "kernelspec": {
      "name": "python3",
      "display_name": "Python 3"
    },
    "language_info": {
      "name": "python"
    }
  },
  "cells": [
    {
      "cell_type": "code",
      "execution_count": null,
      "metadata": {
        "colab": {
          "base_uri": "https://localhost:8080/"
        },
        "id": "4GaIGp_LfaMk",
        "outputId": "2833bcb6-bd36-42c3-b3f4-5db2c7af9c8c"
      },
      "outputs": [
        {
          "output_type": "stream",
          "name": "stdout",
          "text": [
            "oi\n"
          ]
        }
      ],
      "source": [
        "string1=\"oi\"\n",
        "print(string1)"
      ]
    },
    {
      "cell_type": "code",
      "source": [
        "string2=\"oi, tudo bem?\"\n",
        "print(string2)"
      ],
      "metadata": {
        "colab": {
          "base_uri": "https://localhost:8080/"
        },
        "id": "lyRt0J9_gIjf",
        "outputId": "9b41606f-accd-45f5-ea77-635d95ca08cd"
      },
      "execution_count": null,
      "outputs": [
        {
          "output_type": "stream",
          "name": "stdout",
          "text": [
            "oi, tudo bem?\n"
          ]
        }
      ]
    },
    {
      "cell_type": "code",
      "source": [
        "string3=\"Ctrl+Play - escola de programação e robótica\"\n",
        "print(string3)"
      ],
      "metadata": {
        "colab": {
          "base_uri": "https://localhost:8080/"
        },
        "id": "q91hil6EgYMs",
        "outputId": "0e4a1ac9-3447-42f8-d67d-a997c80c2d48"
      },
      "execution_count": null,
      "outputs": [
        {
          "output_type": "stream",
          "name": "stdout",
          "text": [
            "Ctrl+Play - escola de programação e robótica\n"
          ]
        }
      ]
    },
    {
      "cell_type": "code",
      "source": [
        "string4='um dia \"de tarde\"'\n",
        "print(string4)"
      ],
      "metadata": {
        "colab": {
          "base_uri": "https://localhost:8080/"
        },
        "id": "e6k2kih9hCDC",
        "outputId": "0a918da2-25a0-46af-c8c8-2e9d71655828"
      },
      "execution_count": null,
      "outputs": [
        {
          "output_type": "stream",
          "name": "stdout",
          "text": [
            "um dia \"de tarde\"\n"
          ]
        }
      ]
    },
    {
      "cell_type": "code",
      "source": [
        "nome = input()\n",
        "print(\"Seja bem-vindo\", nome)"
      ],
      "metadata": {
        "colab": {
          "base_uri": "https://localhost:8080/"
        },
        "id": "Z82hLFOkjB5e",
        "outputId": "b4257cfb-1bc1-491e-f31b-a1ce87eb37b3"
      },
      "execution_count": null,
      "outputs": [
        {
          "output_type": "stream",
          "name": "stdout",
          "text": [
            "julia\n",
            "Seja bem-vindo julia\n"
          ]
        }
      ]
    },
    {
      "cell_type": "code",
      "source": [
        "string5=\"teste\"\n",
        "print(string5)\n",
        "print(\"teste\")\n",
        "\"teste\""
      ],
      "metadata": {
        "colab": {
          "base_uri": "https://localhost:8080/",
          "height": 70
        },
        "id": "NXFeoSF_jwxg",
        "outputId": "1b9b77f2-a76a-4b28-fbb2-239eb730ad86"
      },
      "execution_count": null,
      "outputs": [
        {
          "output_type": "stream",
          "name": "stdout",
          "text": [
            "teste\n",
            "teste\n"
          ]
        },
        {
          "output_type": "execute_result",
          "data": {
            "text/plain": [
              "'teste'"
            ],
            "application/vnd.google.colaboratory.intrinsic+json": {
              "type": "string"
            }
          },
          "metadata": {},
          "execution_count": 13
        }
      ]
    },
    {
      "cell_type": "code",
      "source": [
        "print(\"Saltando \\n\\n linhas \\n !\")"
      ],
      "metadata": {
        "colab": {
          "base_uri": "https://localhost:8080/"
        },
        "id": "ZJm8p_xIkZ5s",
        "outputId": "baa77dd0-f976-4e87-9f79-f182df449011"
      },
      "execution_count": null,
      "outputs": [
        {
          "output_type": "stream",
          "name": "stdout",
          "text": [
            "Saltando \n",
            "\n",
            " linhas \n",
            " !\n"
          ]
        }
      ]
    },
    {
      "cell_type": "code",
      "source": [
        "print(\"Olá \\t Ctrl=Play1\")"
      ],
      "metadata": {
        "colab": {
          "base_uri": "https://localhost:8080/"
        },
        "id": "tVeRYr0HknTT",
        "outputId": "1f579b52-d69e-4d79-e092-5ebd84b98ce8"
      },
      "execution_count": null,
      "outputs": [
        {
          "output_type": "stream",
          "name": "stdout",
          "text": [
            "Olá \t Ctrl=Play1\n"
          ]
        }
      ]
    },
    {
      "cell_type": "code",
      "source": [
        "frase = \"Ctrl=Play - Escola de Programação e Robótica\"\n",
        "len(frase)"
      ],
      "metadata": {
        "colab": {
          "base_uri": "https://localhost:8080/"
        },
        "id": "dfvQwk2dlIPm",
        "outputId": "c0479a0b-ef57-4779-aa27-72b6962de176"
      },
      "execution_count": null,
      "outputs": [
        {
          "output_type": "execute_result",
          "data": {
            "text/plain": [
              "44"
            ]
          },
          "metadata": {},
          "execution_count": 18
        }
      ]
    },
    {
      "cell_type": "code",
      "source": [
        "nome = \"Fulano da Silva Sauro\"\n",
        "print(nome[0])"
      ],
      "metadata": {
        "colab": {
          "base_uri": "https://localhost:8080/"
        },
        "id": "4erzkdRElzUP",
        "outputId": "4618e8d0-da99-4d85-fbb6-3ab0c1b637ff"
      },
      "execution_count": null,
      "outputs": [
        {
          "output_type": "stream",
          "name": "stdout",
          "text": [
            "F\n"
          ]
        }
      ]
    },
    {
      "cell_type": "code",
      "source": [
        "print(nome[7:])"
      ],
      "metadata": {
        "colab": {
          "base_uri": "https://localhost:8080/"
        },
        "id": "60PLL8tAmR-0",
        "outputId": "08c84f3f-926f-43a3-dc88-6afc8e66101b"
      },
      "execution_count": null,
      "outputs": [
        {
          "output_type": "stream",
          "name": "stdout",
          "text": [
            "da Silva Sauro\n"
          ]
        }
      ]
    },
    {
      "cell_type": "code",
      "source": [
        "print(nome[:7])"
      ],
      "metadata": {
        "colab": {
          "base_uri": "https://localhost:8080/"
        },
        "id": "aSYeA2aam5Gi",
        "outputId": "283d6076-345a-44fe-cc2f-d6f2a3511803"
      },
      "execution_count": null,
      "outputs": [
        {
          "output_type": "stream",
          "name": "stdout",
          "text": [
            "Fulano \n"
          ]
        }
      ]
    },
    {
      "cell_type": "code",
      "source": [
        "print(nome[-1])"
      ],
      "metadata": {
        "colab": {
          "base_uri": "https://localhost:8080/"
        },
        "id": "sQ0iIcr6nAqk",
        "outputId": "7578c136-1f2c-4122-8573-ac8a39452216"
      },
      "execution_count": null,
      "outputs": [
        {
          "output_type": "stream",
          "name": "stdout",
          "text": [
            "o\n"
          ]
        }
      ]
    },
    {
      "cell_type": "code",
      "source": [
        "print(nome[:-5])"
      ],
      "metadata": {
        "colab": {
          "base_uri": "https://localhost:8080/"
        },
        "id": "SmjV8kffnF7j",
        "outputId": "7982f856-bf1d-4584-e464-92d0ac6b1adb"
      },
      "execution_count": null,
      "outputs": [
        {
          "output_type": "stream",
          "name": "stdout",
          "text": [
            "Fulano da Silva \n"
          ]
        }
      ]
    },
    {
      "cell_type": "code",
      "source": [
        "frase=\"Escola de Programação e Robótica\"\n",
        "print(frase[::2])"
      ],
      "metadata": {
        "colab": {
          "base_uri": "https://localhost:8080/"
        },
        "id": "lz5hxjNtnRGH",
        "outputId": "606101d5-c917-4d8d-c298-f634efa705a5"
      },
      "execution_count": null,
      "outputs": [
        {
          "output_type": "stream",
          "name": "stdout",
          "text": [
            "Ecl ePormçoeRbtc\n"
          ]
        }
      ]
    },
    {
      "cell_type": "code",
      "source": [
        "email = \"fulano@ctrlplay.com.br\"\n",
        "print(email.find(\"@\"))"
      ],
      "metadata": {
        "colab": {
          "base_uri": "https://localhost:8080/"
        },
        "id": "hDl-D8oMoBsc",
        "outputId": "898cd6f3-8e7a-4e44-dca4-608acfaa31b8"
      },
      "execution_count": null,
      "outputs": [
        {
          "output_type": "stream",
          "name": "stdout",
          "text": [
            "6\n"
          ]
        }
      ]
    },
    {
      "cell_type": "code",
      "source": [
        "print(email.count(\"l\"))"
      ],
      "metadata": {
        "colab": {
          "base_uri": "https://localhost:8080/"
        },
        "id": "eHOYV2F1olt7",
        "outputId": "74d156ab-f67b-47f7-a604-ccd2f5304580"
      },
      "execution_count": null,
      "outputs": [
        {
          "output_type": "stream",
          "name": "stdout",
          "text": [
            "3\n"
          ]
        }
      ]
    },
    {
      "cell_type": "code",
      "source": [
        "teste = \"imutabilidade\"\n",
        "teste[0] - \"m\""
      ],
      "metadata": {
        "colab": {
          "base_uri": "https://localhost:8080/",
          "height": 158
        },
        "id": "mcmvrJs5pAPw",
        "outputId": "21fe3fd1-9b48-4a7d-d10f-fea7eb0e67b0"
      },
      "execution_count": null,
      "outputs": [
        {
          "output_type": "error",
          "ename": "TypeError",
          "evalue": "unsupported operand type(s) for -: 'str' and 'str'",
          "traceback": [
            "\u001b[0;31m---------------------------------------------------------------------------\u001b[0m",
            "\u001b[0;31mTypeError\u001b[0m                                 Traceback (most recent call last)",
            "\u001b[0;32m/tmp/ipython-input-2005700382.py\u001b[0m in \u001b[0;36m<cell line: 0>\u001b[0;34m()\u001b[0m\n\u001b[1;32m      1\u001b[0m \u001b[0mteste\u001b[0m \u001b[0;34m=\u001b[0m \u001b[0;34m\"imutabilidade\"\u001b[0m\u001b[0;34m\u001b[0m\u001b[0;34m\u001b[0m\u001b[0m\n\u001b[0;32m----> 2\u001b[0;31m \u001b[0mteste\u001b[0m\u001b[0;34m[\u001b[0m\u001b[0;36m0\u001b[0m\u001b[0;34m]\u001b[0m \u001b[0;34m-\u001b[0m \u001b[0;34m\"i\"\u001b[0m\u001b[0;34m\u001b[0m\u001b[0;34m\u001b[0m\u001b[0m\n\u001b[0m",
            "\u001b[0;31mTypeError\u001b[0m: unsupported operand type(s) for -: 'str' and 'str'"
          ]
        }
      ]
    },
    {
      "cell_type": "code",
      "source": [
        "nome = \"José\"\n",
        "sobrenome = \" Bond\"\n",
        "print(nome+sobrenome)"
      ],
      "metadata": {
        "colab": {
          "base_uri": "https://localhost:8080/"
        },
        "id": "OHtqvenSpbmk",
        "outputId": "d666232b-4809-4674-cd80-a76d4154520b"
      },
      "execution_count": null,
      "outputs": [
        {
          "output_type": "stream",
          "name": "stdout",
          "text": [
            "José Bond\n"
          ]
        }
      ]
    },
    {
      "cell_type": "code",
      "source": [
        "númerodeIrmãos = 2\n",
        "print(\"Você tem \" + str(númerodeIrmãos) + \" irmãos\")"
      ],
      "metadata": {
        "colab": {
          "base_uri": "https://localhost:8080/"
        },
        "id": "Y1uKJFvxqhZG",
        "outputId": "4afdcdcc-73b2-45e3-ea2c-9808ef43367e"
      },
      "execution_count": null,
      "outputs": [
        {
          "output_type": "stream",
          "name": "stdout",
          "text": [
            "Você tem 2 irmãos\n"
          ]
        }
      ]
    },
    {
      "cell_type": "code",
      "source": [
        "exemplo = \"Ctrl+Play - Escola de Programação e Robótica\"\n",
        "print(exemplo.upper())"
      ],
      "metadata": {
        "colab": {
          "base_uri": "https://localhost:8080/"
        },
        "id": "b-pjkTe5sQDf",
        "outputId": "e355fd23-197d-42c5-bbe9-3fb98de586d0"
      },
      "execution_count": null,
      "outputs": [
        {
          "output_type": "stream",
          "name": "stdout",
          "text": [
            "CTRL=PLAY - ESCOLA DE PROGRAMAÇÃO E ROBÓTICA\n"
          ]
        }
      ]
    },
    {
      "cell_type": "code",
      "source": [
        "exemplo = \"Ctrl+Play - Escola de Programação e Robótica\"\n",
        "print(exemplo.lower())"
      ],
      "metadata": {
        "colab": {
          "base_uri": "https://localhost:8080/"
        },
        "id": "YO95J9_KsdqI",
        "outputId": "9db3122a-acf3-4418-d2c5-04f88e7e134f"
      },
      "execution_count": null,
      "outputs": [
        {
          "output_type": "stream",
          "name": "stdout",
          "text": [
            "ctrl=play - escola de programação e robótica\n"
          ]
        }
      ]
    },
    {
      "cell_type": "code",
      "source": [
        "palavra = exemplo.split()\n",
        "print(palavra[6])"
      ],
      "metadata": {
        "colab": {
          "base_uri": "https://localhost:8080/"
        },
        "id": "qxQAd4KQtBBV",
        "outputId": "ae18e866-5305-4590-ee29-02d4de888813"
      },
      "execution_count": null,
      "outputs": [
        {
          "output_type": "stream",
          "name": "stdout",
          "text": [
            "Robótica\n"
          ]
        }
      ]
    },
    {
      "cell_type": "code",
      "source": [
        "palavra = exemplo.split(\"-\")\n",
        "print(palavra[1])"
      ],
      "metadata": {
        "colab": {
          "base_uri": "https://localhost:8080/"
        },
        "id": "aJmrZ-5JttAD",
        "outputId": "7792036b-e1d2-4b2b-9214-bf6888302216"
      },
      "execution_count": null,
      "outputs": [
        {
          "output_type": "stream",
          "name": "stdout",
          "text": [
            " Escola de Programação e Robótica\n"
          ]
        }
      ]
    },
    {
      "cell_type": "code",
      "source": [
        "nome = input(\"Digite seu nome\")\n",
        "print(\"Olá \" + nome)"
      ],
      "metadata": {
        "colab": {
          "base_uri": "https://localhost:8080/"
        },
        "id": "rN2xrBc2t44v",
        "outputId": "f75a5028-9cc9-4027-b4f9-b072a2f437b3"
      },
      "execution_count": null,
      "outputs": [
        {
          "output_type": "stream",
          "name": "stdout",
          "text": [
            "Digite seu nomeJulia\n",
            "Olá Julia\n"
          ]
        }
      ]
    },
    {
      "cell_type": "code",
      "source": [
        "frase = input(\"Me informe o seu personagem favorito \")\n",
        "len(frase)"
      ],
      "metadata": {
        "colab": {
          "base_uri": "https://localhost:8080/"
        },
        "id": "YrbO8EWZu8gt",
        "outputId": "e4d657eb-4f1e-4075-de85-bc9fa5a1bf25"
      },
      "execution_count": null,
      "outputs": [
        {
          "name": "stdout",
          "output_type": "stream",
          "text": [
            "Me informe o seu personagem favorito Luffy\n"
          ]
        },
        {
          "output_type": "execute_result",
          "data": {
            "text/plain": [
              "5"
            ]
          },
          "metadata": {},
          "execution_count": 61
        }
      ]
    },
    {
      "cell_type": "code",
      "source": [
        "print(frase.count(\"a\"))\n",
        "print(frase.count(\"e\"))\n",
        "print(frase.count(\"i\"))\n",
        "print(frase.count(\"o\"))\n",
        "print(frase.count(\"u\"))"
      ],
      "metadata": {
        "colab": {
          "base_uri": "https://localhost:8080/"
        },
        "id": "gJq4dXvbwUZl",
        "outputId": "4636ebe8-bfb8-41b4-c484-3f08c6c788c3"
      },
      "execution_count": null,
      "outputs": [
        {
          "output_type": "stream",
          "name": "stdout",
          "text": [
            "0\n",
            "0\n",
            "0\n",
            "0\n",
            "1\n"
          ]
        }
      ]
    },
    {
      "cell_type": "code",
      "source": [
        "print(\"a =\", frase.count(\"a\"))"
      ],
      "metadata": {
        "colab": {
          "base_uri": "https://localhost:8080/"
        },
        "id": "ETOqJA1ixs9E",
        "outputId": "02a6da5f-b9b5-4331-cc92-bbb55591bbbe"
      },
      "execution_count": null,
      "outputs": [
        {
          "output_type": "stream",
          "name": "stdout",
          "text": [
            "a = 0\n"
          ]
        }
      ]
    },
    {
      "cell_type": "code",
      "source": [
        "print(\"e =\", frase.count(\"e\"))\n",
        "print(\"i =\", frase.count(\"i\"))\n",
        "print(\"o =\", frase.count(\"o\"))\n",
        "print(\"u =\", frase.count(\"u\"))"
      ],
      "metadata": {
        "colab": {
          "base_uri": "https://localhost:8080/"
        },
        "id": "hFGcfLnqyeni",
        "outputId": "918fc0f8-1aa4-48b4-e936-b26e2cef83b2"
      },
      "execution_count": null,
      "outputs": [
        {
          "output_type": "stream",
          "name": "stdout",
          "text": [
            "e = 0\n",
            "i = 0\n",
            "o = 0\n",
            "u = 1\n"
          ]
        }
      ]
    },
    {
      "cell_type": "code",
      "source": [
        "print(\" c \\n t \\n r\\n l \\n +\\n p\\n l\\n a\\n y \\n\")"
      ],
      "metadata": {
        "colab": {
          "base_uri": "https://localhost:8080/"
        },
        "id": "yUs7OG9Iy-kx",
        "outputId": "2718ef42-c600-495a-9cca-0e9e071a02a3"
      },
      "execution_count": null,
      "outputs": [
        {
          "output_type": "stream",
          "name": "stdout",
          "text": [
            " c \n",
            " t \n",
            " r\n",
            " l \n",
            " +\n",
            " p\n",
            " l\n",
            " a\n",
            " y \n",
            "\n"
          ]
        }
      ]
    },
    {
      "cell_type": "code",
      "source": [
        "nome = \"ctrl+play\"\n",
        "print(nome[:-8])\n",
        "print(nome[:-7])\n",
        "print(nome[:-6])\n",
        "print(nome[:-5])\n",
        "print(nome[:-4])\n",
        "print(nome[:-3])\n",
        "print(nome[:-2])\n",
        "print(nome[:-1])"
      ],
      "metadata": {
        "colab": {
          "base_uri": "https://localhost:8080/"
        },
        "id": "S1o7diKfzrjG",
        "outputId": "725422c5-5651-4fcd-9957-558ea7842af7"
      },
      "execution_count": null,
      "outputs": [
        {
          "output_type": "stream",
          "name": "stdout",
          "text": [
            "c\n",
            "ct\n",
            "ctr\n",
            "ctrl\n",
            "ctrl+\n",
            "ctrl+p\n",
            "ctrl+pl\n",
            "ctrl+pla\n"
          ]
        }
      ]
    },
    {
      "cell_type": "code",
      "source": [
        "nome = input(\"Digite seu nome completo \")\n",
        "nomes = nome.split()\n",
        "print(nomes[0])\n",
        "print(nomes[1])\n",
        "print(nomes[2])"
      ],
      "metadata": {
        "colab": {
          "base_uri": "https://localhost:8080/"
        },
        "id": "EsGRQv580-4l",
        "outputId": "9a7aa015-138e-4752-8138-ec36c6a1a490"
      },
      "execution_count": null,
      "outputs": [
        {
          "output_type": "stream",
          "name": "stdout",
          "text": [
            "Digite seu nome completo Julia de Aquino Corrêa\n",
            "Julia\n",
            "de\n",
            "Aquino\n"
          ]
        }
      ]
    }
  ]
}
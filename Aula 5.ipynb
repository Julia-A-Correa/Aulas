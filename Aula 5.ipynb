{
  "cells": [
    {
      "cell_type": "code",
      "source": [
        "numeros = [1,2,3,4,5,6,7,8,9,10]\n",
        "for num in numeros:\n",
        "  print(num)"
      ],
      "metadata": {
        "colab": {
          "base_uri": "https://localhost:8080/"
        },
        "id": "T8-ahdUmnBsB",
        "outputId": "0b59bb4d-d285-4880-d2b5-006600c1f6c6"
      },
      "execution_count": 4,
      "outputs": [
        {
          "output_type": "stream",
          "name": "stdout",
          "text": [
            "1\n",
            "2\n",
            "3\n",
            "4\n",
            "5\n",
            "6\n",
            "7\n",
            "8\n",
            "9\n",
            "10\n"
          ]
        }
      ]
    },
    {
      "cell_type": "code",
      "source": [
        "numeros = [1,2,3,4,5,6,7,8,9,10]\n",
        "for num in range(3,5):\n",
        "  print(num)"
      ],
      "metadata": {
        "colab": {
          "base_uri": "https://localhost:8080/"
        },
        "id": "Nd1wMvg_qIVL",
        "outputId": "1a05660b-8569-4ad6-c65b-6b71349d0e10"
      },
      "execution_count": 6,
      "outputs": [
        {
          "output_type": "stream",
          "name": "stdout",
          "text": [
            "3\n",
            "4\n"
          ]
        }
      ]
    },
    {
      "cell_type": "code",
      "source": [
        "for num in range(1,11):\n",
        "  if(num %2 ==0):\n",
        "    print(num)"
      ],
      "metadata": {
        "colab": {
          "base_uri": "https://localhost:8080/"
        },
        "id": "fOznyUEDrtAi",
        "outputId": "f6d6318f-dcc4-4253-b2ab-06a1eb9d8526"
      },
      "execution_count": 7,
      "outputs": [
        {
          "output_type": "stream",
          "name": "stdout",
          "text": [
            "2\n",
            "4\n",
            "6\n",
            "8\n",
            "10\n"
          ]
        }
      ]
    },
    {
      "cell_type": "code",
      "source": [
        "for letra in \"Cltr+Play\":\n",
        "  print(letra)"
      ],
      "metadata": {
        "colab": {
          "base_uri": "https://localhost:8080/"
        },
        "id": "VIM-mUs9sMrK",
        "outputId": "e3760c59-75a3-4736-82cd-86e589d7423f"
      },
      "execution_count": 9,
      "outputs": [
        {
          "output_type": "stream",
          "name": "stdout",
          "text": [
            "C\n",
            "l\n",
            "t\n",
            "r\n",
            "+\n",
            "P\n",
            "l\n",
            "a\n",
            "y\n"
          ]
        }
      ]
    },
    {
      "cell_type": "code",
      "source": [
        "soma = 0\n",
        "numeros = range(1,1000)\n",
        "i = 0\n",
        "while soma < 100:\n",
        "  soma += numeros[i]\n",
        "  i += 1\n",
        "  print(soma)"
      ],
      "metadata": {
        "colab": {
          "base_uri": "https://localhost:8080/"
        },
        "id": "ZyvQtxzlshDy",
        "outputId": "8b0c255a-9ce4-4ad5-8505-3dd5e913f4eb"
      },
      "execution_count": 14,
      "outputs": [
        {
          "output_type": "stream",
          "name": "stdout",
          "text": [
            "1\n",
            "3\n",
            "6\n",
            "10\n",
            "15\n",
            "21\n",
            "28\n",
            "36\n",
            "45\n",
            "55\n",
            "66\n",
            "78\n",
            "91\n",
            "105\n"
          ]
        }
      ]
    },
    {
      "cell_type": "code",
      "source": [
        "x = 0\n",
        "\n",
        "while x < 5:\n",
        "  print(\"valor de x:\" ,x)\n",
        "  print( \"x ainda é menor que 5, vamos somar 1\")\n",
        "  x+=1\n",
        "\n",
        "else:\n",
        "  print(\"FIM!\")"
      ],
      "metadata": {
        "colab": {
          "base_uri": "https://localhost:8080/"
        },
        "id": "SWLoxK9HuiqL",
        "outputId": "4856d385-df03-4102-d4b5-cc60c1724707"
      },
      "execution_count": 16,
      "outputs": [
        {
          "output_type": "stream",
          "name": "stdout",
          "text": [
            "valor de x: 0\n",
            "x ainda é menor que 5, vamos somar 1\n",
            "valor de x: 1\n",
            "x ainda é menor que 5, vamos somar 1\n",
            "valor de x: 2\n",
            "x ainda é menor que 5, vamos somar 1\n",
            "valor de x: 3\n",
            "x ainda é menor que 5, vamos somar 1\n",
            "valor de x: 4\n",
            "x ainda é menor que 5, vamos somar 1\n",
            "FIM!\n"
          ]
        }
      ]
    },
    {
      "cell_type": "code",
      "source": [
        "soma = 0\n",
        "x = 0\n",
        "\n",
        "while x < 1000:\n",
        "  x+=1\n",
        "  if x%3==0:\n",
        "    print(x)\n",
        "    soma +=x\n",
        "  else:\n",
        "    if x%5==0:\n",
        "      pass\n",
        "    else:\n",
        "      print(\"buscando... \")\n",
        "      continue\n",
        "\n",
        "  if soma>300:\n",
        "    print(soma)\n",
        "    break"
      ],
      "metadata": {
        "colab": {
          "base_uri": "https://localhost:8080/"
        },
        "id": "sQpTcGz6wGZo",
        "outputId": "74271ba5-303a-4b13-e9fc-8159f6c9eeec"
      },
      "execution_count": 54,
      "outputs": [
        {
          "output_type": "stream",
          "name": "stdout",
          "text": [
            "buscando... \n",
            "buscando... \n",
            "3\n",
            "buscando... \n",
            "6\n",
            "buscando... \n",
            "buscando... \n",
            "9\n",
            "buscando... \n",
            "12\n",
            "buscando... \n",
            "buscando... \n",
            "15\n",
            "buscando... \n",
            "buscando... \n",
            "18\n",
            "buscando... \n",
            "21\n",
            "buscando... \n",
            "buscando... \n",
            "24\n",
            "buscando... \n",
            "27\n",
            "buscando... \n",
            "buscando... \n",
            "30\n",
            "buscando... \n",
            "buscando... \n",
            "33\n",
            "buscando... \n",
            "36\n",
            "buscando... \n",
            "buscando... \n",
            "39\n",
            "buscando... \n",
            "42\n",
            "315\n"
          ]
        }
      ]
    },
    {
      "cell_type": "code",
      "source": [
        "for num in range(1,20):\n",
        "  if num %2==0:\n",
        "    print(num)"
      ],
      "metadata": {
        "id": "UQnu_HD90e5p",
        "outputId": "afaa5a75-8e05-4e18-cc98-33fa7927a6d4",
        "colab": {
          "base_uri": "https://localhost:8080/"
        }
      },
      "execution_count": 29,
      "outputs": [
        {
          "output_type": "stream",
          "name": "stdout",
          "text": [
            "2\n",
            "4\n",
            "6\n",
            "8\n",
            "10\n",
            "12\n",
            "14\n",
            "16\n",
            "18\n"
          ]
        }
      ]
    },
    {
      "cell_type": "code",
      "source": [
        "palavra = input(\"Cltr+Play é \")\n",
        "for letra in palavra:\n",
        "  print(letra)"
      ],
      "metadata": {
        "id": "nWo4fEyP1LHT",
        "outputId": "599b5c14-06df-489e-f0c9-4a547a02aefa",
        "colab": {
          "base_uri": "https://localhost:8080/"
        }
      },
      "execution_count": 35,
      "outputs": [
        {
          "output_type": "stream",
          "name": "stdout",
          "text": [
            "Cltr+Play é escola\n",
            "e\n",
            "s\n",
            "c\n",
            "o\n",
            "l\n",
            "a\n"
          ]
        }
      ]
    },
    {
      "cell_type": "code",
      "source": [
        "soma = 0\n",
        "numeros = range(1,100)\n",
        "i = 0\n",
        "while soma < 100:\n",
        "  soma += numeros[i]\n",
        "  i += 1\n",
        "  print(soma)"
      ],
      "metadata": {
        "id": "BZO8omOm3O2B",
        "outputId": "36353706-c839-4542-e54b-b0d5d0a08b8a",
        "colab": {
          "base_uri": "https://localhost:8080/"
        }
      },
      "execution_count": 40,
      "outputs": [
        {
          "output_type": "stream",
          "name": "stdout",
          "text": [
            "1\n",
            "3\n",
            "6\n",
            "10\n",
            "15\n",
            "21\n",
            "28\n",
            "36\n",
            "45\n",
            "55\n",
            "66\n",
            "78\n",
            "91\n",
            "105\n"
          ]
        }
      ]
    },
    {
      "cell_type": "code",
      "source": [
        "for i in range(1, 31):\n",
        "  if i % 5 == 0:\n",
        "    continue\n",
        "  print(i)"
      ],
      "metadata": {
        "id": "naqOkOZR5A77",
        "outputId": "198e6285-2eeb-4283-98da-479b2e468dd7",
        "colab": {
          "base_uri": "https://localhost:8080/"
        }
      },
      "execution_count": 44,
      "outputs": [
        {
          "output_type": "stream",
          "name": "stdout",
          "text": [
            "1\n",
            "2\n",
            "3\n",
            "4\n",
            "6\n",
            "7\n",
            "8\n",
            "9\n",
            "11\n",
            "12\n",
            "13\n",
            "14\n",
            "16\n",
            "17\n",
            "18\n",
            "19\n",
            "21\n",
            "22\n",
            "23\n",
            "24\n",
            "26\n",
            "27\n",
            "28\n",
            "29\n"
          ]
        }
      ]
    },
    {
      "cell_type": "code",
      "source": [
        "for i in range(1,21):\n",
        "  if i < 10:\n",
        "    pass\n",
        "  elif i == 15:\n",
        "    break\n",
        "  else:\n",
        "      print(i)"
      ],
      "metadata": {
        "id": "TJuhjoBb5grl",
        "outputId": "71fa275d-fc32-4515-d1cb-be35210a8317",
        "colab": {
          "base_uri": "https://localhost:8080/"
        }
      },
      "execution_count": 53,
      "outputs": [
        {
          "output_type": "stream",
          "name": "stdout",
          "text": [
            "10\n",
            "11\n",
            "12\n",
            "13\n",
            "14\n"
          ]
        }
      ]
    },
    {
      "cell_type": "code",
      "source": [
        "# Contagem regressiva de 10 até 1\n",
        "for i in range(10, 0, -1):\n",
        "    print(i)\n",
        "# Mensagem final\n",
        "print(\"👉 Fogo!\")"
      ],
      "metadata": {
        "id": "wbiKmnlK-Ygu",
        "outputId": "13709be4-4f38-4acb-b784-e6db63217245",
        "colab": {
          "base_uri": "https://localhost:8080/"
        }
      },
      "execution_count": 63,
      "outputs": [
        {
          "output_type": "stream",
          "name": "stdout",
          "text": [
            "10\n",
            "9\n",
            "8\n",
            "7\n",
            "6\n",
            "5\n",
            "4\n",
            "3\n",
            "2\n",
            "1\n",
            "👉 Fogo!\n"
          ]
        }
      ]
    },
    {
      "cell_type": "code",
      "source": [
        "n = int(input(\"Digite um número inteiro: \"))\n",
        "soma = 0\n",
        "\n",
        "for i in range(1, n + 1):\n",
        "    if i % 2 == 0:\n",
        "      soma +=1\n",
        "\n",
        "print(f\"A soma dos números pares até {n} é {soma}\")\n"
      ],
      "metadata": {
        "id": "ViQcVyaAAGAn",
        "outputId": "0f979e11-1b6b-4272-8dc0-06dd2892423d",
        "colab": {
          "base_uri": "https://localhost:8080/"
        }
      },
      "execution_count": 77,
      "outputs": [
        {
          "output_type": "stream",
          "name": "stdout",
          "text": [
            "Digite um número inteiro: 20\n",
            "A soma dos números pares até 20 é 10\n"
          ]
        }
      ]
    }
  ],
  "metadata": {
    "colab": {
      "name": "Damos-lhe as boas-vindas ao Colab",
      "toc_visible": true,
      "provenance": []
    },
    "kernelspec": {
      "display_name": "Python 3",
      "name": "python3"
    }
  },
  "nbformat": 4,
  "nbformat_minor": 0
}